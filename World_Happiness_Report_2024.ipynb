{
 "cells": [
  {
   "cell_type": "code",
   "execution_count": 11,
   "id": "f1175b21-99eb-471c-b595-9280b981176b",
   "metadata": {},
   "outputs": [],
   "source": [
    "import pandas as pd"
   ]
  },
  {
   "cell_type": "code",
   "execution_count": 14,
   "id": "3e1e2308-4346-4fc1-bd5a-9172e1017376",
   "metadata": {},
   "outputs": [
    {
     "name": "stdout",
     "output_type": "stream",
     "text": [
      "  Country name  Ladder score  upperwhisker  lowerwhisker  \\\n",
      "0      Finland         7.741         7.815         7.667   \n",
      "1      Denmark         7.583         7.665         7.500   \n",
      "2      Iceland         7.525         7.618         7.433   \n",
      "3       Sweden         7.344         7.422         7.267   \n",
      "4       Israel         7.341         7.405         7.277   \n",
      "\n",
      "   Explained by: Log GDP per capita  Explained by: Social support  \\\n",
      "0                             1.844                         1.572   \n",
      "1                             1.908                         1.520   \n",
      "2                             1.881                         1.617   \n",
      "3                             1.878                         1.501   \n",
      "4                             1.803                         1.513   \n",
      "\n",
      "   Explained by: Healthy life expectancy  \\\n",
      "0                                  0.695   \n",
      "1                                  0.699   \n",
      "2                                  0.718   \n",
      "3                                  0.724   \n",
      "4                                  0.740   \n",
      "\n",
      "   Explained by: Freedom to make life choices  Explained by: Generosity  \\\n",
      "0                                       0.859                     0.142   \n",
      "1                                       0.823                     0.204   \n",
      "2                                       0.819                     0.258   \n",
      "3                                       0.838                     0.221   \n",
      "4                                       0.641                     0.153   \n",
      "\n",
      "   Explained by: Perceptions of corruption  Dystopia + residual  \n",
      "0                                    0.546                2.082  \n",
      "1                                    0.548                1.881  \n",
      "2                                    0.182                2.050  \n",
      "3                                    0.524                1.658  \n",
      "4                                    0.193                2.298  \n"
     ]
    }
   ],
   "source": [
    "# loading data\n",
    "file_path = \"dataset/WHR2024.csv\"\n",
    "data = pd.read_csv(file_path)\n",
    "\n",
    "print(data.head())"
   ]
  },
  {
   "cell_type": "code",
   "execution_count": 15,
   "id": "5605c4ea-01c0-4cfd-a59b-5a3796f54634",
   "metadata": {},
   "outputs": [
    {
     "name": "stdout",
     "output_type": "stream",
     "text": [
      "(143, 11)\n"
     ]
    }
   ],
   "source": [
    "# number of rows and columns\n",
    "print(data.shape)"
   ]
  },
  {
   "cell_type": "code",
   "execution_count": 17,
   "id": "68dca10e-95bf-458f-8dc8-a168d239a7c3",
   "metadata": {},
   "outputs": [
    {
     "name": "stdout",
     "output_type": "stream",
     "text": [
      "<class 'pandas.core.frame.DataFrame'>\n",
      "RangeIndex: 143 entries, 0 to 142\n",
      "Data columns (total 11 columns):\n",
      " #   Column                                      Non-Null Count  Dtype  \n",
      "---  ------                                      --------------  -----  \n",
      " 0   Country name                                143 non-null    object \n",
      " 1   Ladder score                                143 non-null    float64\n",
      " 2   upperwhisker                                143 non-null    float64\n",
      " 3   lowerwhisker                                143 non-null    float64\n",
      " 4   Explained by: Log GDP per capita            140 non-null    float64\n",
      " 5   Explained by: Social support                140 non-null    float64\n",
      " 6   Explained by: Healthy life expectancy       140 non-null    float64\n",
      " 7   Explained by: Freedom to make life choices  140 non-null    float64\n",
      " 8   Explained by: Generosity                    140 non-null    float64\n",
      " 9   Explained by: Perceptions of corruption     140 non-null    float64\n",
      " 10  Dystopia + residual                         140 non-null    float64\n",
      "dtypes: float64(10), object(1)\n",
      "memory usage: 12.4+ KB\n",
      "None\n"
     ]
    }
   ],
   "source": [
    "# Summary of dataset\n",
    "print(data.info())"
   ]
  },
  {
   "cell_type": "code",
   "execution_count": 18,
   "id": "dd8a54db-255b-4950-ab7e-bf238e27342a",
   "metadata": {},
   "outputs": [
    {
     "name": "stdout",
     "output_type": "stream",
     "text": [
      "Country name                                  0\n",
      "Ladder score                                  0\n",
      "upperwhisker                                  0\n",
      "lowerwhisker                                  0\n",
      "Explained by: Log GDP per capita              3\n",
      "Explained by: Social support                  3\n",
      "Explained by: Healthy life expectancy         3\n",
      "Explained by: Freedom to make life choices    3\n",
      "Explained by: Generosity                      3\n",
      "Explained by: Perceptions of corruption       3\n",
      "Dystopia + residual                           3\n",
      "dtype: int64\n"
     ]
    }
   ],
   "source": [
    "# Check for missing values\n",
    "print(data.isnull().sum())"
   ]
  },
  {
   "cell_type": "code",
   "execution_count": 19,
   "id": "4b6fa387-c384-4cf0-80f3-fdb9c624e06e",
   "metadata": {},
   "outputs": [
    {
     "name": "stdout",
     "output_type": "stream",
     "text": [
      "       Ladder score  upperwhisker  lowerwhisker  \\\n",
      "count    143.000000    143.000000    143.000000   \n",
      "mean       5.527580      5.641175      5.413972   \n",
      "std        1.170717      1.155008      1.187133   \n",
      "min        1.721000      1.775000      1.667000   \n",
      "25%        4.726000      4.845500      4.606000   \n",
      "50%        5.785000      5.895000      5.674000   \n",
      "75%        6.416000      6.507500      6.319000   \n",
      "max        7.741000      7.815000      7.667000   \n",
      "\n",
      "       Explained by: Log GDP per capita  Explained by: Social support  \\\n",
      "count                        140.000000                    140.000000   \n",
      "mean                           1.378807                      1.134329   \n",
      "std                            0.425098                      0.333317   \n",
      "min                            0.000000                      0.000000   \n",
      "25%                            1.077750                      0.921750   \n",
      "50%                            1.431500                      1.237500   \n",
      "75%                            1.741500                      1.383250   \n",
      "max                            2.141000                      1.617000   \n",
      "\n",
      "       Explained by: Healthy life expectancy  \\\n",
      "count                             140.000000   \n",
      "mean                                0.520886   \n",
      "std                                 0.164923   \n",
      "min                                 0.000000   \n",
      "25%                                 0.398000   \n",
      "50%                                 0.549500   \n",
      "75%                                 0.648500   \n",
      "max                                 0.857000   \n",
      "\n",
      "       Explained by: Freedom to make life choices  Explained by: Generosity  \\\n",
      "count                                  140.000000                140.000000   \n",
      "mean                                     0.620621                  0.146271   \n",
      "std                                      0.162492                  0.073441   \n",
      "min                                      0.000000                  0.000000   \n",
      "25%                                      0.527500                  0.091000   \n",
      "50%                                      0.641000                  0.136500   \n",
      "75%                                      0.736000                  0.192500   \n",
      "max                                      0.863000                  0.401000   \n",
      "\n",
      "       Explained by: Perceptions of corruption  Dystopia + residual  \n",
      "count                               140.000000           140.000000  \n",
      "mean                                  0.154121             1.575914  \n",
      "std                                   0.126238             0.537459  \n",
      "min                                   0.000000            -0.073000  \n",
      "25%                                   0.068750             1.308250  \n",
      "50%                                   0.120500             1.644500  \n",
      "75%                                   0.193750             1.881750  \n",
      "max                                   0.575000             2.998000  \n"
     ]
    }
   ],
   "source": [
    "# Summary statistics for numerical columns\n",
    "print(data.describe())"
   ]
  },
  {
   "cell_type": "code",
   "execution_count": null,
   "id": "83205ccb-35f1-4cbb-9783-934881f7142a",
   "metadata": {},
   "outputs": [],
   "source": []
  }
 ],
 "metadata": {
  "kernelspec": {
   "display_name": "Python 3 (ipykernel)",
   "language": "python",
   "name": "python3"
  },
  "language_info": {
   "codemirror_mode": {
    "name": "ipython",
    "version": 3
   },
   "file_extension": ".py",
   "mimetype": "text/x-python",
   "name": "python",
   "nbconvert_exporter": "python",
   "pygments_lexer": "ipython3",
   "version": "3.13.1"
  }
 },
 "nbformat": 4,
 "nbformat_minor": 5
}
